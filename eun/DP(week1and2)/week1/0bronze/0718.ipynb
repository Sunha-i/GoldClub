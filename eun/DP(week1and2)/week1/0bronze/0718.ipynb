{
 "cells": [
  {
   "cell_type": "markdown",
   "id": "949c94b6",
   "metadata": {},
   "source": [
    "2775 - 부녀회장이 될테야!"
   ]
  },
  {
   "cell_type": "code",
   "execution_count": 5,
   "id": "d28c31c0",
   "metadata": {
    "scrolled": true
   },
   "outputs": [
    {
     "name": "stdout",
     "output_type": "stream",
     "text": [
      "2\n",
      "1\n",
      "3\n",
      "6\n",
      "2\n",
      "3\n",
      "10\n"
     ]
    }
   ],
   "source": [
    "T = int(input())\n",
    "for i in range(T):\n",
    "    k = int(input())\n",
    "    n = int(input())\n",
    "    people = [i for i in range(1,n+1)] #0층의 1~n호 인원 수로 초기화.\n",
    "    \n",
    "    for x in range(1,k+1): #people 배열을 1층부터 k층까지로 계속 변환해줌.\n",
    "        for y in range(1,n): #people[0]은 계속 0층의 1호 인원수와 동일하므로 2호꺼부터 변경\n",
    "            people[y] = people[y-1] + people[y] #people[y-1]은 이미 새로운 층의 y호껄로 업데이트 되어있음. people[y]는 새로운 층의 y+1호 인원 수를 의미\n",
    "    print(people[n-1]) #어차피 people 배열의 맨 마지막 값이라 people[-1]을 출력해도 됨."
   ]
  },
  {
   "cell_type": "markdown",
   "id": "ae245809",
   "metadata": {},
   "source": [
    "17202 - 핸드폰 번호 궁합"
   ]
  },
  {
   "cell_type": "code",
   "execution_count": 14,
   "id": "c5f6afb8",
   "metadata": {
    "scrolled": true
   },
   "outputs": [
    {
     "name": "stdout",
     "output_type": "stream",
     "text": [
      "01234567\n",
      "12345678\n",
      "02\n"
     ]
    }
   ],
   "source": [
    "num1 = input()\n",
    "num2 = input()\n",
    "\n",
    "chemi = []\n",
    "\n",
    "#배열 초기화. 각 번호 낑긴 상태\n",
    "for i in range(8):\n",
    "    chemi.append(num1[i])\n",
    "    chemi.append(num2[i])\n",
    "\n",
    "while(len(chemi) > 2):\n",
    "    for i in range(0,len(chemi)-1):\n",
    "        chemi[i] = (int(chemi[i]) + int(chemi[i+1])) % 10\n",
    "    del chemi[-1]\n",
    "\n",
    "print(str(chemi[0])+str(chemi[1]))"
   ]
  },
  {
   "cell_type": "markdown",
   "id": "e9db7b80",
   "metadata": {},
   "source": [
    "24416 - 알고리즘 수업 - 피보나치 수 1"
   ]
  },
  {
   "cell_type": "code",
   "execution_count": 32,
   "id": "66542f41",
   "metadata": {},
   "outputs": [
    {
     "name": "stdout",
     "output_type": "stream",
     "text": [
      "5\n",
      "5 3\n"
     ]
    }
   ],
   "source": [
    "global fib_cnt\n",
    "fib_cnt = 0\n",
    "global fibonacci_cnt\n",
    "fibonacci_cnt = 0\n",
    "\n",
    "def fib(n):\n",
    "    global fib_cnt\n",
    "    \n",
    "    if (n==1 or n==2):\n",
    "        fib_cnt += 1\n",
    "        return 1\n",
    "    else:\n",
    "        return fib(n-1) + fib(n-2);\n",
    "    \n",
    "def fibonacci(n):\n",
    "    global fibonacci_cnt\n",
    "    \n",
    "    f = [0] * n\n",
    "    f[0] = 1\n",
    "    f[1] = 1\n",
    "    \n",
    "    for i in range(2,n):\n",
    "        f[i] = f[i-2] + f[i-1]\n",
    "        fibonacci_cnt += 1\n",
    "\n",
    "    return f[n-1]\n",
    "\n",
    "x = int(input())\n",
    "fib(x)\n",
    "fibonacci(x)\n",
    "print(str(fib_cnt) + \" \" + str(fibonacci_cnt))"
   ]
  }
 ],
 "metadata": {
  "kernelspec": {
   "display_name": "Python 3 (ipykernel)",
   "language": "python",
   "name": "python3"
  },
  "language_info": {
   "codemirror_mode": {
    "name": "ipython",
    "version": 3
   },
   "file_extension": ".py",
   "mimetype": "text/x-python",
   "name": "python",
   "nbconvert_exporter": "python",
   "pygments_lexer": "ipython3",
   "version": "3.10.9"
  }
 },
 "nbformat": 4,
 "nbformat_minor": 5
}
