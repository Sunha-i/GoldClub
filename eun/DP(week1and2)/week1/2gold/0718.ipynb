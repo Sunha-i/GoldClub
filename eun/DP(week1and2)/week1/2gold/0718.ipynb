{
 "cells": [
  {
   "cell_type": "code",
   "execution_count": null,
   "id": "312a6108",
   "metadata": {},
   "outputs": [],
   "source": []
  },
  {
   "cell_type": "code",
   "execution_count": 1,
   "id": "1b5e73f8",
   "metadata": {},
   "outputs": [
    {
     "name": "stdout",
     "output_type": "stream",
     "text": [
      "4 7\n",
      "4 7\n"
     ]
    }
   ],
   "source": [
    "N, K = map(int, input().split())\n",
    "backpack = [0] * N\n",
    "W_list = []\n",
    "V_list = []\n",
    "\n",
    "for i in range(N): #0 ~ N-1 = 1개 ~ N개\n",
    "    W, V = map(int, input().split())\n",
    "    \n",
    "    if sum(W_list) + W <= K:\n",
    "        W_list.append(W)\n",
    "        V_list.append(V)\n",
    "        backpack[i] = sum(V_list)\n",
    "    else:\n",
    "        W_list.append(W)\n",
    "        V_list.append(V)\n",
    "        while(sum(W_list) <= K):\n",
    "            W_list \n",
    "        \n",
    "print(backpack[N-1])"
   ]
  },
  {
   "cell_type": "code",
   "execution_count": null,
   "id": "f8fa0aa3",
   "metadata": {},
   "outputs": [],
   "source": []
  }
 ],
 "metadata": {
  "kernelspec": {
   "display_name": "Python 3 (ipykernel)",
   "language": "python",
   "name": "python3"
  },
  "language_info": {
   "codemirror_mode": {
    "name": "ipython",
    "version": 3
   },
   "file_extension": ".py",
   "mimetype": "text/x-python",
   "name": "python",
   "nbconvert_exporter": "python",
   "pygments_lexer": "ipython3",
   "version": "3.10.9"
  }
 },
 "nbformat": 4,
 "nbformat_minor": 5
}
